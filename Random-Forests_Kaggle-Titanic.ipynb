{
 "cells": [
  {
   "cell_type": "markdown",
   "metadata": {},
   "source": [
    "# Random Forests for Kaggle's Titanic Data Set\n",
    "\n",
    "---\n",
    "\n",
    "Kaggle is a great site for data science and machine learning enthusiasts to find interesting problems to tackle. For those exploring machine learning and its implementations, the [Titanic: Machine Learning from Disaster](https://www.kaggle.com/c/titanic) is arguably one of the most popular challenges to try out.\n",
    "\n",
    "In this notebook, I take a shot at the Titanic challenge, aiming to improve the [accuracy](https://en.wikipedia.org/wiki/Accuracy_and_precision#In_binary_classification) of the [suggested random forest model]() that was provided by Kaggle.\n",
    "\n",
    "Outline of this notebook:\n",
    ">1. Data description and exploration\n",
    "    - 1.1 Load data\n",
    "    - 1.2 Data exploration\n",
    "    <br><br>\n",
    "2. Data wrangling and feature engineering\n",
    "    - 2.1 Creating `Title` from `Name`\n",
    "    - 2.2 Imputing `Age`\n",
    "    - 2.3 Imputing `Embarked`, `Fare` and `Cabin`\n",
    "    - 2.4 Creating `FamSize`\n",
    "    - 2.5 `Ticket`\n",
    "    - 2.6 One-hot encoding\n",
    "    <br><br>\n",
    "3. Modeling\n",
    "    - 3.1 Create train-validation split using stratified k-fold cross validation\n",
    "    - 3.2 Hyperparameter tuning\n",
    "    - 3.3 Prediction on `X_test` and submission"
   ]
  },
  {
   "cell_type": "code",
   "execution_count": 1,
   "metadata": {},
   "outputs": [],
   "source": [
    "# General libraries required for data handling\n",
    "import pandas as pd\n",
    "import numpy as np\n",
    "import matplotlib.pyplot as plt\n",
    "import seaborn as sns\n",
    "\n",
    "# Libraries needed for modeling\n",
    "from sklearn.model_selection import train_test_split\n",
    "from sklearn.tree import DecisionTreeClassifier\n",
    "from sklearn.ensemble import RandomForestClassifier\n",
    "from sklearn.model_selection import GridSearchCV\n",
    "from sklearn.model_selection import StratifiedKFold\n",
    "\n",
    "# Miscellaneous\n",
    "import warnings\n",
    "warnings.simplefilter(\"ignore\")\n",
    "\n",
    "% matplotlib inline"
   ]
  },
  {
   "cell_type": "markdown",
   "metadata": {},
   "source": [
    "---\n",
    "### 1. Data description and exploration\n",
    "\n",
    "#### 1.1 Load data\n",
    "\n",
    "The relevant data sets can be found [here](https://www.kaggle.com/c/titanic/data), provided by Kaggle. There are two data sets provided, `train.csv` and `test.csv`. I will merge both the data sets into a single, collective dataframe `total_data_df` in order to have to only conduct the data wrangling only once."
   ]
  },
  {
   "cell_type": "code",
   "execution_count": 2,
   "metadata": {},
   "outputs": [
    {
     "data": {
      "text/html": [
       "<div>\n",
       "<style scoped>\n",
       "    .dataframe tbody tr th:only-of-type {\n",
       "        vertical-align: middle;\n",
       "    }\n",
       "\n",
       "    .dataframe tbody tr th {\n",
       "        vertical-align: top;\n",
       "    }\n",
       "\n",
       "    .dataframe thead th {\n",
       "        text-align: right;\n",
       "    }\n",
       "</style>\n",
       "<table border=\"1\" class=\"dataframe\">\n",
       "  <thead>\n",
       "    <tr style=\"text-align: right;\">\n",
       "      <th></th>\n",
       "      <th>Variable</th>\n",
       "      <th>Definition</th>\n",
       "      <th>Key</th>\n",
       "    </tr>\n",
       "  </thead>\n",
       "  <tbody>\n",
       "    <tr>\n",
       "      <th>0</th>\n",
       "      <td>survival</td>\n",
       "      <td>Survival</td>\n",
       "      <td>0 = No, 1 = Yes</td>\n",
       "    </tr>\n",
       "    <tr>\n",
       "      <th>1</th>\n",
       "      <td>pclass</td>\n",
       "      <td>Ticket</td>\n",
       "      <td>1 = 1st, 2 = 2nd, 3 = 3rd</td>\n",
       "    </tr>\n",
       "    <tr>\n",
       "      <th>2</th>\n",
       "      <td>sex</td>\n",
       "      <td>Sex</td>\n",
       "      <td></td>\n",
       "    </tr>\n",
       "    <tr>\n",
       "      <th>3</th>\n",
       "      <td>Age</td>\n",
       "      <td>Age in years</td>\n",
       "      <td></td>\n",
       "    </tr>\n",
       "    <tr>\n",
       "      <th>4</th>\n",
       "      <td>sibsp</td>\n",
       "      <td># of siblings / spouses aboard the Titanic</td>\n",
       "      <td></td>\n",
       "    </tr>\n",
       "    <tr>\n",
       "      <th>5</th>\n",
       "      <td>parch</td>\n",
       "      <td># of parents / children aboard the Titanic</td>\n",
       "      <td></td>\n",
       "    </tr>\n",
       "    <tr>\n",
       "      <th>6</th>\n",
       "      <td>ticket</td>\n",
       "      <td>Ticket number</td>\n",
       "      <td></td>\n",
       "    </tr>\n",
       "    <tr>\n",
       "      <th>7</th>\n",
       "      <td>fare</td>\n",
       "      <td>Passenger fare</td>\n",
       "      <td></td>\n",
       "    </tr>\n",
       "    <tr>\n",
       "      <th>8</th>\n",
       "      <td>cabin</td>\n",
       "      <td>Cabin number</td>\n",
       "      <td></td>\n",
       "    </tr>\n",
       "    <tr>\n",
       "      <th>9</th>\n",
       "      <td>embarked</td>\n",
       "      <td>Port of embarkation</td>\n",
       "      <td>C = Cherbourg, Q = Queenstown, S = Southampton</td>\n",
       "    </tr>\n",
       "  </tbody>\n",
       "</table>\n",
       "</div>"
      ],
      "text/plain": [
       "   Variable                                  Definition  \\\n",
       "0  survival                                    Survival   \n",
       "1    pclass                                      Ticket   \n",
       "2       sex                                         Sex   \n",
       "3       Age                                Age in years   \n",
       "4     sibsp  # of siblings / spouses aboard the Titanic   \n",
       "5     parch  # of parents / children aboard the Titanic   \n",
       "6    ticket                               Ticket number   \n",
       "7      fare                              Passenger fare   \n",
       "8     cabin                                Cabin number   \n",
       "9  embarked                         Port of embarkation   \n",
       "\n",
       "                                              Key  \n",
       "0                                 0 = No, 1 = Yes  \n",
       "1                       1 = 1st, 2 = 2nd, 3 = 3rd  \n",
       "2                                                  \n",
       "3                                                  \n",
       "4                                                  \n",
       "5                                                  \n",
       "6                                                  \n",
       "7                                                  \n",
       "8                                                  \n",
       "9  C = Cherbourg, Q = Queenstown, S = Southampton  "
      ]
     },
     "execution_count": 2,
     "metadata": {},
     "output_type": "execute_result"
    }
   ],
   "source": [
    "# Load training and testing data\n",
    "train_df = pd.read_csv(\"Titanic_data/train.csv\")\n",
    "test_df = pd.read_csv(\"Titanic_data/test.csv\")\n",
    "\n",
    "# Merge `train_data_df` and `test_data_df`\n",
    "total_df = pd.concat(objs = [train_df, test_df], axis = 0, sort = False).reset_index(drop = True)\n",
    "\n",
    "# Create index to slice dataframe back into train and test set\n",
    "train_idx = len(train_df)\n",
    "\n",
    "# Create PassengerId from test set\n",
    "passengerId = test_df[\"PassengerId\"]\n",
    "\n",
    "# Create dataframe to describe each variable\n",
    "variable_list = ['survival', 'pclass', 'sex', 'Age', 'sibsp', 'parch', 'ticket', 'fare', 'cabin', 'embarked']\n",
    "definition_list = ['Survival', 'Ticket', 'Sex', 'Age in years', '# of siblings / spouses aboard the Titanic', '# of parents / children aboard the Titanic', 'Ticket number', 'Passenger fare', 'Cabin number', 'Port of embarkation']\n",
    "key_list = ['0 = No, 1 = Yes', '1 = 1st, 2 = 2nd, 3 = 3rd', '', '', '', '', '', '', '', 'C = Cherbourg, Q = Queenstown, S = Southampton']\n",
    "variable_tuple = zip(variable_list, definition_list, key_list)\n",
    "variable_description_df = pd.DataFrame(variable_tuple, columns = ['Variable', 'Definition', 'Key'])\n",
    "\n",
    "variable_description_df"
   ]
  },
  {
   "cell_type": "code",
   "execution_count": 3,
   "metadata": {},
   "outputs": [
    {
     "data": {
      "text/html": [
       "<div>\n",
       "<style scoped>\n",
       "    .dataframe tbody tr th:only-of-type {\n",
       "        vertical-align: middle;\n",
       "    }\n",
       "\n",
       "    .dataframe tbody tr th {\n",
       "        vertical-align: top;\n",
       "    }\n",
       "\n",
       "    .dataframe thead th {\n",
       "        text-align: right;\n",
       "    }\n",
       "</style>\n",
       "<table border=\"1\" class=\"dataframe\">\n",
       "  <thead>\n",
       "    <tr style=\"text-align: right;\">\n",
       "      <th></th>\n",
       "      <th>PassengerId</th>\n",
       "      <th>Survived</th>\n",
       "      <th>Pclass</th>\n",
       "      <th>Name</th>\n",
       "      <th>Sex</th>\n",
       "      <th>Age</th>\n",
       "      <th>SibSp</th>\n",
       "      <th>Parch</th>\n",
       "      <th>Ticket</th>\n",
       "      <th>Fare</th>\n",
       "      <th>Cabin</th>\n",
       "      <th>Embarked</th>\n",
       "    </tr>\n",
       "  </thead>\n",
       "  <tbody>\n",
       "    <tr>\n",
       "      <th>0</th>\n",
       "      <td>1</td>\n",
       "      <td>0.0</td>\n",
       "      <td>3</td>\n",
       "      <td>Braund, Mr. Owen Harris</td>\n",
       "      <td>male</td>\n",
       "      <td>22.0</td>\n",
       "      <td>1</td>\n",
       "      <td>0</td>\n",
       "      <td>A/5 21171</td>\n",
       "      <td>7.2500</td>\n",
       "      <td>NaN</td>\n",
       "      <td>S</td>\n",
       "    </tr>\n",
       "    <tr>\n",
       "      <th>1</th>\n",
       "      <td>2</td>\n",
       "      <td>1.0</td>\n",
       "      <td>1</td>\n",
       "      <td>Cumings, Mrs. John Bradley (Florence Briggs Th...</td>\n",
       "      <td>female</td>\n",
       "      <td>38.0</td>\n",
       "      <td>1</td>\n",
       "      <td>0</td>\n",
       "      <td>PC 17599</td>\n",
       "      <td>71.2833</td>\n",
       "      <td>C85</td>\n",
       "      <td>C</td>\n",
       "    </tr>\n",
       "    <tr>\n",
       "      <th>2</th>\n",
       "      <td>3</td>\n",
       "      <td>1.0</td>\n",
       "      <td>3</td>\n",
       "      <td>Heikkinen, Miss. Laina</td>\n",
       "      <td>female</td>\n",
       "      <td>26.0</td>\n",
       "      <td>0</td>\n",
       "      <td>0</td>\n",
       "      <td>STON/O2. 3101282</td>\n",
       "      <td>7.9250</td>\n",
       "      <td>NaN</td>\n",
       "      <td>S</td>\n",
       "    </tr>\n",
       "    <tr>\n",
       "      <th>3</th>\n",
       "      <td>4</td>\n",
       "      <td>1.0</td>\n",
       "      <td>1</td>\n",
       "      <td>Futrelle, Mrs. Jacques Heath (Lily May Peel)</td>\n",
       "      <td>female</td>\n",
       "      <td>35.0</td>\n",
       "      <td>1</td>\n",
       "      <td>0</td>\n",
       "      <td>113803</td>\n",
       "      <td>53.1000</td>\n",
       "      <td>C123</td>\n",
       "      <td>S</td>\n",
       "    </tr>\n",
       "    <tr>\n",
       "      <th>4</th>\n",
       "      <td>5</td>\n",
       "      <td>0.0</td>\n",
       "      <td>3</td>\n",
       "      <td>Allen, Mr. William Henry</td>\n",
       "      <td>male</td>\n",
       "      <td>35.0</td>\n",
       "      <td>0</td>\n",
       "      <td>0</td>\n",
       "      <td>373450</td>\n",
       "      <td>8.0500</td>\n",
       "      <td>NaN</td>\n",
       "      <td>S</td>\n",
       "    </tr>\n",
       "  </tbody>\n",
       "</table>\n",
       "</div>"
      ],
      "text/plain": [
       "   PassengerId  Survived  Pclass  \\\n",
       "0            1       0.0       3   \n",
       "1            2       1.0       1   \n",
       "2            3       1.0       3   \n",
       "3            4       1.0       1   \n",
       "4            5       0.0       3   \n",
       "\n",
       "                                                Name     Sex   Age  SibSp  \\\n",
       "0                            Braund, Mr. Owen Harris    male  22.0      1   \n",
       "1  Cumings, Mrs. John Bradley (Florence Briggs Th...  female  38.0      1   \n",
       "2                             Heikkinen, Miss. Laina  female  26.0      0   \n",
       "3       Futrelle, Mrs. Jacques Heath (Lily May Peel)  female  35.0      1   \n",
       "4                           Allen, Mr. William Henry    male  35.0      0   \n",
       "\n",
       "   Parch            Ticket     Fare Cabin Embarked  \n",
       "0      0         A/5 21171   7.2500   NaN        S  \n",
       "1      0          PC 17599  71.2833   C85        C  \n",
       "2      0  STON/O2. 3101282   7.9250   NaN        S  \n",
       "3      0            113803  53.1000  C123        S  \n",
       "4      0            373450   8.0500   NaN        S  "
      ]
     },
     "execution_count": 3,
     "metadata": {},
     "output_type": "execute_result"
    }
   ],
   "source": [
    "total_df.head()"
   ]
  },
  {
   "cell_type": "markdown",
   "metadata": {},
   "source": [
    "#### 1.2 Data exploration\n",
    "\n",
    "It is my common practice to first visualise the `NaN` values in a given data set. This gives me a rough feel of how 'ready' the data set is to be fed into any model.\n",
    "\n",
    "Below is a heatmap of the entire `total_data_df` dataframe, where dark maroon bars represent any cells in the dataframe that are `NaN` values. I've transposed the dataframe to get a horizontal plot. There is a sizable number of missing values in the `Age` column and almost all the values for `Cabin` are missing. `Fare` and `Embarked` have a trivial number of missing values.\n",
    "\n",
    "Also, note that the bottom part of the `total_data_df` dataframe has missing values in the `Survived` column. This missing portion of the dataframe corresponds to the `test.csv` dataset and the missing `Survived` values are exactly what we will be trying to predict."
   ]
  },
  {
   "cell_type": "code",
   "execution_count": 4,
   "metadata": {},
   "outputs": [
    {
     "data": {
      "text/plain": [
       "<matplotlib.axes._subplots.AxesSubplot at 0x112467d30>"
      ]
     },
     "execution_count": 4,
     "metadata": {},
     "output_type": "execute_result"
    },
    {
     "data": {
      "image/png": "[encoded data removed]",
      "text/plain": [
       "<Figure size 1440x648 with 1 Axes>"
      ]
     },
     "metadata": {},
     "output_type": "display_data"
    }
   ],
   "source": [
    "# Visualise NaN occurances\n",
    "fig1 = plt.figure(figsize = (20,9))\n",
    "fig1.suptitle(\"Visualise missing values\", fontsize = 20)\n",
    "sns.heatmap(total_df.isnull().transpose(), cmap = \"Oranges\", xticklabels = False, cbar = False)"
   ]
  },
  {
   "cell_type": "markdown",
   "metadata": {},
   "source": [
    "Here, I visualise the survival rate across each of the predictors to get a feel their relationships."
   ]
  },
  {
   "cell_type": "code",
   "execution_count": 5,
   "metadata": {},
   "outputs": [
    {
     "data": {
      "text/plain": [
       "<matplotlib.axes._subplots.AxesSubplot at 0x1a1be97278>"
      ]
     },
     "execution_count": 5,
     "metadata": {},
     "output_type": "execute_result"
    },
    {
     "data": {
      "image/png": "[encoded data removed]",
      "text/plain": [
       "<Figure size 1008x1008 with 7 Axes>"
      ]
     },
     "metadata": {},
     "output_type": "display_data"
    }
   ],
   "source": [
    "fig2 = plt.figure(figsize = (14, 14))\n",
    "fig2.suptitle(\"Further data exploration\", fontsize = 20)\n",
    "\n",
    "\n",
    "ax_sex = fig2.add_subplot(3, 3, 1)\n",
    "sns.countplot(ax = ax_sex, x = \"Sex\", hue = \"Survived\", data = train_df)\n",
    "\n",
    "ax_pclass = fig2.add_subplot(3, 3, 2)\n",
    "sns.countplot(ax = ax_pclass, x = \"Pclass\", hue = \"Survived\", data = train_df)\n",
    "\n",
    "ax_embarked = fig2.add_subplot(3, 3, 3)\n",
    "sns.countplot(ax = ax_embarked, x = \"Embarked\", hue = \"Survived\", data = train_df)\n",
    "\n",
    "ax_sibsp = fig2.add_subplot(3, 3, 4)\n",
    "sns.countplot(ax = ax_sibsp, x = \"SibSp\", hue = \"Survived\", data = train_df)\n",
    "\n",
    "ax_parch = fig2.add_subplot(3, 3, 5)\n",
    "sns.countplot(ax = ax_parch, x = \"Parch\", hue = \"Survived\", data = train_df)\n",
    "\n",
    "ax_age = fig2.add_subplot(3, 3, 6)\n",
    "sns.distplot(train_df[train_df[\"Survived\"] == 0][\"Age\"].dropna(), hist = False)\n",
    "sns.distplot(train_df[train_df[\"Survived\"] == 1][\"Age\"].dropna(), hist = False)\n",
    "\n",
    "ax_age = fig2.add_subplot(3, 3, 7)\n",
    "sns.distplot(train_df[train_df[\"Survived\"] == 0][\"Fare\"].dropna(), hist = False)\n",
    "sns.distplot(train_df[train_df[\"Survived\"] == 1][\"Fare\"].dropna(), hist = False)\n"
   ]
  },
  {
   "cell_type": "markdown",
   "metadata": {},
   "source": [
    "Some general relatioships that we can infer based on the visuals:\n",
    "\n",
    "- __*Survival rate vs. `sex`*__: Females have a higher survival rate that males.\n",
    "\n",
    "- __*Survival rate vs. `Pclass`*__: Survival rate decreases as we move from 1st class to 2nd class to 3rd class.\n",
    "\n",
    "- __*Survival rate vs. `SibSp`*__: Survival rate generally decreases as the number of siblings onboard increases.\n",
    "\n",
    "- __*Survival rate vs. `Parch`*__: Survival rate generally decreases as the number of parents and children onboard increases.\n",
    "\n",
    "- __*Survival rate vs. `Age`*__: Children aged between 0 - 18 y/o have more survivors that deaths, while adults ages between 18 - around 40y/o have more deaths than survivors.\n",
    "\n",
    "- __*Survival rate vs. `Fare`*__: Those that paid upwards of $100 expereinced more survivors than deaths."
   ]
  },
  {
   "cell_type": "markdown",
   "metadata": {},
   "source": [
    "---\n",
    "\n",
    "### 2. Data wrangling and feature engineering\n",
    "\n",
    "#### 2.1 Creating `Title` from `Name`\n",
    "\n",
    "First, I will make use of the `Name` feature the honorific of each passenger to create a new `Title` feature. `Title` will give us more information about a passenger's socioeconomic status, which might be a significant predictor for a passenger's chance of survival. \n",
    "\n",
    "The titles will be normalised by grouping various titles together based on the `normalised_titles` dictionary. \n",
    "\n",
    "We will end up with the following 5 titles:\n",
    "- `Mr`\n",
    "- `Miss`\n",
    "- `Mrs`\n",
    "- `Master`\n",
    "- `Rare`"
   ]
  },
  {
   "cell_type": "code",
   "execution_count": 6,
   "metadata": {},
   "outputs": [
    {
     "data": {
      "text/plain": [
       "<matplotlib.axes._subplots.AxesSubplot at 0x1a1c3f0eb8>"
      ]
     },
     "execution_count": 6,
     "metadata": {},
     "output_type": "execute_result"
    },
    {
     "data": {
      "image/png": "[encoded data removed]",
      "text/plain": [
       "<Figure size 864x432 with 2 Axes>"
      ]
     },
     "metadata": {},
     "output_type": "display_data"
    }
   ],
   "source": [
    "# Create new column called `Title`\n",
    "total_df[\"Title\"] = total_df.Name.apply(lambda x: x.split(',')[1].split('.')[0].strip())\n",
    "\n",
    "# Get unique `Titles`\n",
    "unique_title = total_df[\"Title\"].unique()\n",
    "\n",
    "# Visualise unique `Titles`\n",
    "fig_title = plt.figure(figsize = (12, 6))\n",
    "ax_title_before = fig_title.add_subplot(1, 2, 1)\n",
    "sns.countplot(ax = ax_title_before, x = \"Title\", data = total_df)\n",
    "fig_title.autofmt_xdate(rotation = 45)\n",
    "\n",
    "# Normalise \"Titles\"\n",
    "normalised_titles = {\n",
    "    \"Jonkheer\": \"Rare\",\n",
    "    \"Don\": \"Rare\",\n",
    "    \"Dona\": \"Rare\", \n",
    "    \"Sir\" : \"Rare\",\n",
    "    \"Lady\" : \"Rare\",\n",
    "    \"the Countess\":\"Rare\",\n",
    "    \"Capt\": \"Rare\",\n",
    "    \"Col\": \"Rare\",\n",
    "    \"Major\": \"Rare\",\n",
    "    \"Dr\": \"Rare\",\n",
    "    \"Rev\": \"Rare\",\n",
    "    \"Mme\": \"Mrs\",\n",
    "    \"Ms\": \"Mrs\",\n",
    "    \"Mrs\" : \"Mrs\",\n",
    "    \"Mlle\": \"Miss\",\n",
    "    \"Mr\" : \"Mr\",\n",
    "    \"Miss\" : \"Miss\",\n",
    "    \"Master\" : \"Master\",\n",
    "}\n",
    "\n",
    "# Map normlaised \"Titles\" to \"Title\" column\n",
    "total_df[\"Title\"] = total_df[\"Title\"].map(normalised_titles)\n",
    "\n",
    "# Drop `Name` column\n",
    "total_df.drop([\"Name\"], axis = 1, inplace = True)\n",
    "\n",
    "# Visualise the normalised `Titles`\n",
    "ax_title_after = fig_title.add_subplot(1, 2, 2)\n",
    "sns.countplot(ax = ax_title_after, x = \"Title\", hue = \"Survived\", data = total_df)"
   ]
  },
  {
   "cell_type": "markdown",
   "metadata": {},
   "source": [
    "It is interesting to note that \"Women and children first\" (`Master` identifies males 14 y/o or younger) and passengers with `Rare` titles have a higher chance to survive as compared to males."
   ]
  },
  {
   "cell_type": "markdown",
   "metadata": {},
   "source": [
    "#### 2.2 Imputing `Age`\n",
    "\n",
    "Since we see that there are subpopulations that have a higher chance of survival (children aged between 0 - 18y/o), it is preferable to keep the `Age` feature and impute the missing values.\n",
    "\n",
    "Instead of imputing `Age` with its mean or median, I think it might be more accurate to impute using the median `Age` of the groups that they belong to. Hence, I need to decide which features I should be using to bin the passengers. \n",
    "\n",
    "For numeric features, I should use features that are highly correlated with `Age`. From the correlation matrix below, `Age` is most correlated with `SibSp`, `Parch` and `Pclass`."
   ]
  },
  {
   "cell_type": "code",
   "execution_count": 7,
   "metadata": {},
   "outputs": [
    {
     "data": {
      "image/png": "[encoded data removed]",
      "text/plain": [
       "<Figure size 432x288 with 2 Axes>"
      ]
     },
     "metadata": {},
     "output_type": "display_data"
    }
   ],
   "source": [
    "# Correlation matrix between numerical values\n",
    "corr_matrix = sns.heatmap(train_df[[\"Age\", \"Pclass\", \"SibSp\", \"Parch\", \"Fare\"]].corr(), annot = True, fmt = \".2f\", cmap = \"Oranges\")"
   ]
  },
  {
   "cell_type": "markdown",
   "metadata": {},
   "source": [
    "Hence, we can divide the passengers into subgroups based on the following features:\n",
    "- `Pclass`\n",
    "- `SibSp`\n",
    "- `Parch`\n",
    "- `Title`\n",
    "\n",
    "For example, if a passenger with missing `Age` value has no siblings, no parents/children on board, took the 1st passenger class and had a title of Miss, then we would impute her `Age` with the median `Age` of that group, i.e. `32.0`."
   ]
  },
  {
   "cell_type": "code",
   "execution_count": 8,
   "metadata": {},
   "outputs": [
    {
     "name": "stdout",
     "output_type": "stream",
     "text": [
      "SibSp  Parch  Pclass  Title \n",
      "0      0      1       Miss      32.0\n",
      "                      Mr        42.0\n",
      "                      Mrs       54.0\n",
      "                      Rare      45.0\n",
      "              2       Miss      28.0\n",
      "                                ... \n",
      "5      2      3       Miss      13.0\n",
      "                      Mr        14.0\n",
      "8      2      3       Master    14.5\n",
      "                      Miss       NaN\n",
      "                      Mr         NaN\n",
      "Name: Age, Length: 125, dtype: float64\n",
      "<class 'pandas.core.frame.DataFrame'>\n",
      "RangeIndex: 1309 entries, 0 to 1308\n",
      "Data columns (total 12 columns):\n",
      "PassengerId    1309 non-null int64\n",
      "Survived       891 non-null float64\n",
      "Pclass         1309 non-null int64\n",
      "Sex            1309 non-null object\n",
      "Age            1299 non-null float64\n",
      "SibSp          1309 non-null int64\n",
      "Parch          1309 non-null int64\n",
      "Ticket         1309 non-null object\n",
      "Fare           1308 non-null float64\n",
      "Cabin          295 non-null object\n",
      "Embarked       1307 non-null object\n",
      "Title          1309 non-null object\n",
      "dtypes: float64(3), int64(4), object(5)\n",
      "memory usage: 122.8+ KB\n"
     ]
    }
   ],
   "source": [
    "# Group by `Sex`, `Pclass`, `Title`\n",
    "grouped_df = total_df.groupby([\"SibSp\", \"Parch\", \"Pclass\", \"Title\"])\n",
    "\n",
    "print(grouped_df.Age.median())\n",
    "\n",
    "# Impute missing `Age` data using grouped median\n",
    "total_df[\"Age\"] = grouped_df.Age.apply(lambda x: x.fillna(x.median()))\n",
    "\n",
    "total_df.info()"
   ]
  },
  {
   "cell_type": "markdown",
   "metadata": {},
   "source": [
    "After imputing `Age`, we see that there are still 10 missing `Age` variables. These are variables of passengers who belong to subgroups whose passengers are all missing the `Age` variable themselves (hence median of those subgroups are still `NaN`). We will impute the remaining 10 missing variables with the median of their respective `Title`s."
   ]
  },
  {
   "cell_type": "code",
   "execution_count": 9,
   "metadata": {},
   "outputs": [
    {
     "name": "stdout",
     "output_type": "stream",
     "text": [
      "<class 'pandas.core.frame.DataFrame'>\n",
      "RangeIndex: 1309 entries, 0 to 1308\n",
      "Data columns (total 12 columns):\n",
      "PassengerId    1309 non-null int64\n",
      "Survived       891 non-null float64\n",
      "Pclass         1309 non-null int64\n",
      "Sex            1309 non-null object\n",
      "Age            1309 non-null float64\n",
      "SibSp          1309 non-null int64\n",
      "Parch          1309 non-null int64\n",
      "Ticket         1309 non-null object\n",
      "Fare           1308 non-null float64\n",
      "Cabin          295 non-null object\n",
      "Embarked       1307 non-null object\n",
      "Title          1309 non-null object\n",
      "dtypes: float64(3), int64(4), object(5)\n",
      "memory usage: 122.8+ KB\n"
     ]
    }
   ],
   "source": [
    "# Group again by `Title`\n",
    "grouped_df2 = total_df.groupby([\"Title\"])\n",
    "\n",
    "# Impute remaining 10 missing `Age` variables\n",
    "total_df[\"Age\"] = grouped_df2.Age.apply(lambda x: x.fillna(x.median()))\n",
    "\n",
    "total_df.info()"
   ]
  },
  {
   "cell_type": "markdown",
   "metadata": {},
   "source": [
    "#### 2.3 Imputing `Embarked`, `Fare` and `Cabin`\n",
    "\n",
    "For `Fare`, since there is only 1 missing value, I will impute it with the median value from the data set.\n",
    "\n",
    "For `Embarked`, since there are aonly 2 missing values, I will impute it with the highest occuring (mode) point of embarkment.\n",
    "\n",
    "For `Cabin`, since majority of the values are missing, I will impute it with a new variable `Unk` to indicate that it is unknown."
   ]
  },
  {
   "cell_type": "code",
   "execution_count": 10,
   "metadata": {},
   "outputs": [
    {
     "data": {
      "text/plain": [
       "<matplotlib.axes._subplots.AxesSubplot at 0x1a1bcde198>"
      ]
     },
     "execution_count": 10,
     "metadata": {},
     "output_type": "execute_result"
    },
    {
     "data": {
      "image/png": "[encoded data removed]",
      "text/plain": [
       "<Figure size 1440x648 with 1 Axes>"
      ]
     },
     "metadata": {},
     "output_type": "display_data"
    }
   ],
   "source": [
    "# Impute `Fare` with median fare\n",
    "total_df[\"Fare\"] = total_df[\"Fare\"].fillna(total_df[\"Fare\"].median())\n",
    "\n",
    "# Impute `Embarkment` with mode\n",
    "most_embarked = total_df[\"Embarked\"].value_counts().index[0]\n",
    "total_df[\"Embarked\"] = total_df[\"Embarked\"].fillna(most_embarked)\n",
    "\n",
    "# Convert \"Cabin\" to just its first letter\n",
    "for row in total_df.itertuples():\n",
    "    if not pd.isna(row.Cabin):\n",
    "        total_df.at[row.Index, \"Cabin\"] = row.Cabin[0]\n",
    "# Impute `Cabin` with `U`\n",
    "total_df[\"Cabin\"] = total_df[\"Cabin\"].fillna(\"Unk\")\n",
    "\n",
    "\n",
    "# Visualise NaN occurances after imputing missing values\n",
    "fig1 = plt.figure(figsize = (20,9))\n",
    "fig1.suptitle(\"Visualise missing values\", fontsize = 20)\n",
    "sns.heatmap(total_df.isnull().transpose(), cmap = \"Oranges\", xticklabels = False, cbar = False)"
   ]
  },
  {
   "cell_type": "markdown",
   "metadata": {},
   "source": [
    "Now, all the NaN values have been imputed and we are only left with the missing `Survived` values that we need to predict."
   ]
  },
  {
   "cell_type": "markdown",
   "metadata": {},
   "source": [
    "#### 2.4 Creating `FamSize`\n",
    "\n",
    "We can imagine that passengers with larger families have a lower chance of survival, since they might be searching for family members or having a hard time securing a space on the life boat.\n",
    "\n",
    "We see that families of sizes 0 to 4 have a higher chance of survival than larger families of sizes 5 to 11."
   ]
  },
  {
   "cell_type": "code",
   "execution_count": 11,
   "metadata": {},
   "outputs": [
    {
     "data": {
      "image/png": "[encoded data removed]",
      "text/plain": [
       "<Figure size 288x288 with 1 Axes>"
      ]
     },
     "metadata": {},
     "output_type": "display_data"
    }
   ],
   "source": [
    "# Create `FamSize`\n",
    "total_df[\"FamSize\"] = total_df[\"SibSp\"] + total_df[\"Parch\"] + 1\n",
    "\n",
    "# Visualise `FamSize` and the rate of survival.\n",
    "FamSize_plot = sns.factorplot(x = \"FamSize\", y = \"Survived\", data = total_df)"
   ]
  },
  {
   "cell_type": "markdown",
   "metadata": {},
   "source": [
    "#### 2.5 `Ticket`\n",
    "\n",
    "The format of the ticket numbers is a follows:\n",
    "- [Optional string, we call `TixPre`] (space) [numbers, we call `TixNum`]\n",
    "- e.g PC 17599\n",
    "- e.g. A/5 21171 - In this case, thee string `A` is the `TixPre`\n",
    "\n",
    "\n",
    "We extract `TixPre` from `Ticket` - if there is no prefix, then `TixPre = NoPrefix`. \n",
    "\n"
   ]
  },
  {
   "cell_type": "code",
   "execution_count": 12,
   "metadata": {},
   "outputs": [],
   "source": [
    "TixPre_list = []\n",
    "\n",
    "# Loop and extract `TixPre`\n",
    "for i in total_df[\"Ticket\"].tolist():\n",
    "    if not i.isdigit():\n",
    "        TixPre_list.append(i.replace(\"/\", \"\").replace(\".\", \"\").split(\" \")[0])\n",
    "    else:\n",
    "        TixPre_list.append(\"NoPrefix\")\n",
    "        \n",
    "# Map `TixPre` back to `Ticket` column\n",
    "total_df[\"Ticket\"] = TixPre_list"
   ]
  },
  {
   "cell_type": "markdown",
   "metadata": {},
   "source": [
    "#### 2.6 One-hot encoding\n",
    "\n",
    "Now that we have all our features cleaned and engineered, we will one-hot encode all the categorical features."
   ]
  },
  {
   "cell_type": "code",
   "execution_count": 13,
   "metadata": {},
   "outputs": [],
   "source": [
    "# Convert Pclass from 1, 2, 3 to 1st, 2nd, 3rd\n",
    "Pclass_dict = {1:\"1st\", 2:\"2nd\", 3:\"3rd\"}\n",
    "total_df[\"Pclass\"] = total_df[\"Pclass\"].map(Pclass_dict)\n",
    "\n",
    "# One-hot encode categorical variables\n",
    "dummies = pd.get_dummies(total_df[[\"Pclass\", \"Sex\", \"Embarked\", \"Cabin\", \"Title\", \"Ticket\"]])\n",
    "total_df.drop([\"Pclass\", \"Sex\", \"Embarked\", \"Cabin\", \"Title\", \"Ticket\"], axis = 1, inplace = True)\n",
    "total_df = pd.concat([total_df, dummies], axis = 1)\n",
    "\n",
    "# Drop `PassengerId`\n",
    "total_df.drop([\"PassengerId\"], axis = 1, inplace = True)"
   ]
  },
  {
   "cell_type": "markdown",
   "metadata": {},
   "source": [
    "This is how our final dataframe looks like:"
   ]
  },
  {
   "cell_type": "code",
   "execution_count": 14,
   "metadata": {},
   "outputs": [
    {
     "name": "stdout",
     "output_type": "stream",
     "text": [
      "<class 'pandas.core.frame.DataFrame'>\n",
      "RangeIndex: 1309 entries, 0 to 1308\n",
      "Data columns (total 65 columns):\n",
      "Survived           891 non-null float64\n",
      "Age                1309 non-null float64\n",
      "SibSp              1309 non-null int64\n",
      "Parch              1309 non-null int64\n",
      "Fare               1309 non-null float64\n",
      "FamSize            1309 non-null int64\n",
      "Pclass_1st         1309 non-null uint8\n",
      "Pclass_2nd         1309 non-null uint8\n",
      "Pclass_3rd         1309 non-null uint8\n",
      "Sex_female         1309 non-null uint8\n",
      "Sex_male           1309 non-null uint8\n",
      "Embarked_C         1309 non-null uint8\n",
      "Embarked_Q         1309 non-null uint8\n",
      "Embarked_S         1309 non-null uint8\n",
      "Cabin_A            1309 non-null uint8\n",
      "Cabin_B            1309 non-null uint8\n",
      "Cabin_C            1309 non-null uint8\n",
      "Cabin_D            1309 non-null uint8\n",
      "Cabin_E            1309 non-null uint8\n",
      "Cabin_F            1309 non-null uint8\n",
      "Cabin_G            1309 non-null uint8\n",
      "Cabin_T            1309 non-null uint8\n",
      "Cabin_Unk          1309 non-null uint8\n",
      "Title_Master       1309 non-null uint8\n",
      "Title_Miss         1309 non-null uint8\n",
      "Title_Mr           1309 non-null uint8\n",
      "Title_Mrs          1309 non-null uint8\n",
      "Title_Rare         1309 non-null uint8\n",
      "Ticket_A           1309 non-null uint8\n",
      "Ticket_A4          1309 non-null uint8\n",
      "Ticket_A5          1309 non-null uint8\n",
      "Ticket_AQ3         1309 non-null uint8\n",
      "Ticket_AQ4         1309 non-null uint8\n",
      "Ticket_AS          1309 non-null uint8\n",
      "Ticket_C           1309 non-null uint8\n",
      "Ticket_CA          1309 non-null uint8\n",
      "Ticket_CASOTON     1309 non-null uint8\n",
      "Ticket_FC          1309 non-null uint8\n",
      "Ticket_FCC         1309 non-null uint8\n",
      "Ticket_Fa          1309 non-null uint8\n",
      "Ticket_LINE        1309 non-null uint8\n",
      "Ticket_LP          1309 non-null uint8\n",
      "Ticket_NoPrefix    1309 non-null uint8\n",
      "Ticket_PC          1309 non-null uint8\n",
      "Ticket_PP          1309 non-null uint8\n",
      "Ticket_PPP         1309 non-null uint8\n",
      "Ticket_SC          1309 non-null uint8\n",
      "Ticket_SCA3        1309 non-null uint8\n",
      "Ticket_SCA4        1309 non-null uint8\n",
      "Ticket_SCAH        1309 non-null uint8\n",
      "Ticket_SCOW        1309 non-null uint8\n",
      "Ticket_SCPARIS     1309 non-null uint8\n",
      "Ticket_SCParis     1309 non-null uint8\n",
      "Ticket_SOC         1309 non-null uint8\n",
      "Ticket_SOP         1309 non-null uint8\n",
      "Ticket_SOPP        1309 non-null uint8\n",
      "Ticket_SOTONO2     1309 non-null uint8\n",
      "Ticket_SOTONOQ     1309 non-null uint8\n",
      "Ticket_SP          1309 non-null uint8\n",
      "Ticket_STONO       1309 non-null uint8\n",
      "Ticket_STONO2      1309 non-null uint8\n",
      "Ticket_STONOQ      1309 non-null uint8\n",
      "Ticket_SWPP        1309 non-null uint8\n",
      "Ticket_WC          1309 non-null uint8\n",
      "Ticket_WEP         1309 non-null uint8\n",
      "dtypes: float64(3), int64(3), uint8(59)\n",
      "memory usage: 136.9 KB\n"
     ]
    },
    {
     "data": {
      "text/html": [
       "<div>\n",
       "<style scoped>\n",
       "    .dataframe tbody tr th:only-of-type {\n",
       "        vertical-align: middle;\n",
       "    }\n",
       "\n",
       "    .dataframe tbody tr th {\n",
       "        vertical-align: top;\n",
       "    }\n",
       "\n",
       "    .dataframe thead th {\n",
       "        text-align: right;\n",
       "    }\n",
       "</style>\n",
       "<table border=\"1\" class=\"dataframe\">\n",
       "  <thead>\n",
       "    <tr style=\"text-align: right;\">\n",
       "      <th></th>\n",
       "      <th>Survived</th>\n",
       "      <th>Age</th>\n",
       "      <th>SibSp</th>\n",
       "      <th>Parch</th>\n",
       "      <th>Fare</th>\n",
       "      <th>FamSize</th>\n",
       "      <th>Pclass_1st</th>\n",
       "      <th>Pclass_2nd</th>\n",
       "      <th>Pclass_3rd</th>\n",
       "      <th>Sex_female</th>\n",
       "      <th>...</th>\n",
       "      <th>Ticket_SOPP</th>\n",
       "      <th>Ticket_SOTONO2</th>\n",
       "      <th>Ticket_SOTONOQ</th>\n",
       "      <th>Ticket_SP</th>\n",
       "      <th>Ticket_STONO</th>\n",
       "      <th>Ticket_STONO2</th>\n",
       "      <th>Ticket_STONOQ</th>\n",
       "      <th>Ticket_SWPP</th>\n",
       "      <th>Ticket_WC</th>\n",
       "      <th>Ticket_WEP</th>\n",
       "    </tr>\n",
       "  </thead>\n",
       "  <tbody>\n",
       "    <tr>\n",
       "      <th>0</th>\n",
       "      <td>0.0</td>\n",
       "      <td>22.0</td>\n",
       "      <td>1</td>\n",
       "      <td>0</td>\n",
       "      <td>7.2500</td>\n",
       "      <td>2</td>\n",
       "      <td>0</td>\n",
       "      <td>0</td>\n",
       "      <td>1</td>\n",
       "      <td>0</td>\n",
       "      <td>...</td>\n",
       "      <td>0</td>\n",
       "      <td>0</td>\n",
       "      <td>0</td>\n",
       "      <td>0</td>\n",
       "      <td>0</td>\n",
       "      <td>0</td>\n",
       "      <td>0</td>\n",
       "      <td>0</td>\n",
       "      <td>0</td>\n",
       "      <td>0</td>\n",
       "    </tr>\n",
       "    <tr>\n",
       "      <th>1</th>\n",
       "      <td>1.0</td>\n",
       "      <td>38.0</td>\n",
       "      <td>1</td>\n",
       "      <td>0</td>\n",
       "      <td>71.2833</td>\n",
       "      <td>2</td>\n",
       "      <td>1</td>\n",
       "      <td>0</td>\n",
       "      <td>0</td>\n",
       "      <td>1</td>\n",
       "      <td>...</td>\n",
       "      <td>0</td>\n",
       "      <td>0</td>\n",
       "      <td>0</td>\n",
       "      <td>0</td>\n",
       "      <td>0</td>\n",
       "      <td>0</td>\n",
       "      <td>0</td>\n",
       "      <td>0</td>\n",
       "      <td>0</td>\n",
       "      <td>0</td>\n",
       "    </tr>\n",
       "    <tr>\n",
       "      <th>2</th>\n",
       "      <td>1.0</td>\n",
       "      <td>26.0</td>\n",
       "      <td>0</td>\n",
       "      <td>0</td>\n",
       "      <td>7.9250</td>\n",
       "      <td>1</td>\n",
       "      <td>0</td>\n",
       "      <td>0</td>\n",
       "      <td>1</td>\n",
       "      <td>1</td>\n",
       "      <td>...</td>\n",
       "      <td>0</td>\n",
       "      <td>0</td>\n",
       "      <td>0</td>\n",
       "      <td>0</td>\n",
       "      <td>0</td>\n",
       "      <td>1</td>\n",
       "      <td>0</td>\n",
       "      <td>0</td>\n",
       "      <td>0</td>\n",
       "      <td>0</td>\n",
       "    </tr>\n",
       "    <tr>\n",
       "      <th>3</th>\n",
       "      <td>1.0</td>\n",
       "      <td>35.0</td>\n",
       "      <td>1</td>\n",
       "      <td>0</td>\n",
       "      <td>53.1000</td>\n",
       "      <td>2</td>\n",
       "      <td>1</td>\n",
       "      <td>0</td>\n",
       "      <td>0</td>\n",
       "      <td>1</td>\n",
       "      <td>...</td>\n",
       "      <td>0</td>\n",
       "      <td>0</td>\n",
       "      <td>0</td>\n",
       "      <td>0</td>\n",
       "      <td>0</td>\n",
       "      <td>0</td>\n",
       "      <td>0</td>\n",
       "      <td>0</td>\n",
       "      <td>0</td>\n",
       "      <td>0</td>\n",
       "    </tr>\n",
       "    <tr>\n",
       "      <th>4</th>\n",
       "      <td>0.0</td>\n",
       "      <td>35.0</td>\n",
       "      <td>0</td>\n",
       "      <td>0</td>\n",
       "      <td>8.0500</td>\n",
       "      <td>1</td>\n",
       "      <td>0</td>\n",
       "      <td>0</td>\n",
       "      <td>1</td>\n",
       "      <td>0</td>\n",
       "      <td>...</td>\n",
       "      <td>0</td>\n",
       "      <td>0</td>\n",
       "      <td>0</td>\n",
       "      <td>0</td>\n",
       "      <td>0</td>\n",
       "      <td>0</td>\n",
       "      <td>0</td>\n",
       "      <td>0</td>\n",
       "      <td>0</td>\n",
       "      <td>0</td>\n",
       "    </tr>\n",
       "  </tbody>\n",
       "</table>\n",
       "<p>5 rows × 65 columns</p>\n",
       "</div>"
      ],
      "text/plain": [
       "   Survived   Age  SibSp  Parch     Fare  FamSize  Pclass_1st  Pclass_2nd  \\\n",
       "0       0.0  22.0      1      0   7.2500        2           0           0   \n",
       "1       1.0  38.0      1      0  71.2833        2           1           0   \n",
       "2       1.0  26.0      0      0   7.9250        1           0           0   \n",
       "3       1.0  35.0      1      0  53.1000        2           1           0   \n",
       "4       0.0  35.0      0      0   8.0500        1           0           0   \n",
       "\n",
       "   Pclass_3rd  Sex_female  ...  Ticket_SOPP  Ticket_SOTONO2  Ticket_SOTONOQ  \\\n",
       "0           1           0  ...            0               0               0   \n",
       "1           0           1  ...            0               0               0   \n",
       "2           1           1  ...            0               0               0   \n",
       "3           0           1  ...            0               0               0   \n",
       "4           1           0  ...            0               0               0   \n",
       "\n",
       "   Ticket_SP  Ticket_STONO  Ticket_STONO2  Ticket_STONOQ  Ticket_SWPP  \\\n",
       "0          0             0              0              0            0   \n",
       "1          0             0              0              0            0   \n",
       "2          0             0              1              0            0   \n",
       "3          0             0              0              0            0   \n",
       "4          0             0              0              0            0   \n",
       "\n",
       "   Ticket_WC  Ticket_WEP  \n",
       "0          0           0  \n",
       "1          0           0  \n",
       "2          0           0  \n",
       "3          0           0  \n",
       "4          0           0  \n",
       "\n",
       "[5 rows x 65 columns]"
      ]
     },
     "execution_count": 14,
     "metadata": {},
     "output_type": "execute_result"
    }
   ],
   "source": [
    "total_df.info()\n",
    "total_df.head()"
   ]
  },
  {
   "cell_type": "markdown",
   "metadata": {},
   "source": [
    "---\n",
    "\n",
    "### 3. Modeling\n",
    "\n",
    "#### 3.1 Create train-validation split using [stratified k-fold cross validation](https://scikit-learn.org/stable/modules/generated/sklearn.model_selection.StratifiedKFold.html#sklearn.model_selection.StratifiedKFold)\n",
    "\n",
    "To avoid confusion with the actual `X_test` that we are supposed to do the prediction on, I will name the splits of `X_train` _train_ and _validation_ sets.\n",
    "\n",
    "I will set `k = 10`. Typically, given the considerations of bias-variance trade-off associated with the choice of k in k-fold cross validation, k = 5 or k = 10 is used as these values have been shown empirically to suffer neither from excessively high bias nor very high variance. This means that `X_train` will be split into 10 groups of approximately the same size. Since `X_train` has 891 rows, each group will contain approximately 891 / 10 = ~89 rows.\n",
    "\n",
    "I've visualised this stratified 10-fold cross validation in the plot below, where the dark green cells represents the indices of the rows in `X_train` that is used for the validation set in each fold."
   ]
  },
  {
   "cell_type": "code",
   "execution_count": 15,
   "metadata": {},
   "outputs": [
    {
     "data": {
      "text/plain": [
       "<matplotlib.axes._subplots.AxesSubplot at 0x1a1ca42828>"
      ]
     },
     "execution_count": 15,
     "metadata": {},
     "output_type": "execute_result"
    },
    {
     "data": {
      "image/png": "[encoded data removed]",
      "text/plain": [
       "<Figure size 1296x648 with 1 Axes>"
      ]
     },
     "metadata": {},
     "output_type": "display_data"
    }
   ],
   "source": [
    "# Split the `total_df` back into the original train and test sets\n",
    "\n",
    "train_new_df = total_df[ :train_idx]\n",
    "train_new_df['Survived'] = train_new_df['Survived'].astype(int)\n",
    "test_new_df = total_df[train_idx: ]\n",
    "test_new_df.drop([\"Survived\"], axis = 1, inplace = True)\n",
    "\n",
    "X_train = train_new_df.drop([\"Survived\"], axis = 1, inplace = False)\n",
    "Y_train = train_new_df[\"Survived\"]\n",
    "\n",
    "X_test = test_new_df\n",
    "\n",
    "# Define random seed to make results deterministic\n",
    "RSEED = 999\n",
    "\n",
    "# Instantiate cross validation\n",
    "kfold = StratifiedKFold(n_splits = 10, shuffle = True, random_state = RSEED)\n",
    "\n",
    "# Visualise splits of `X_train` into train and validation sets\n",
    "col_names = [\"fold_{}\".format(i) for i in range(1, 11)]\n",
    "validate_idx_df = pd.DataFrame(index = [i for i in range(0, len(X_train))], columns = col_names)\n",
    "\n",
    "i = 0\n",
    "for train, validate in kfold.split(X = X_train, y = Y_train):\n",
    "    col = col_names[i]\n",
    "    for idx in validate:\n",
    "        validate_idx_df.at[idx, col] = 1\n",
    "    i += 1\n",
    "    \n",
    "fig_validate = plt.figure(figsize = (18, 9))\n",
    "fig_validate.suptitle(\"10-fold cross validation\", fontsize = 25)\n",
    "sns.heatmap(validate_idx_df.notnull().transpose(), cmap = \"YlGn\", xticklabels = False, cbar = False)"
   ]
  },
  {
   "cell_type": "markdown",
   "metadata": {},
   "source": [
    "#### 3.2 Hyperparameter tuning\n",
    "\n",
    "Now that we have our train-validation data sets for each fold of our stratified cross validation, we will have to tune the hyperparameters of the Random Forest model that we intend to use.\n",
    "\n",
    "We will perform many iterations of the entire stratified 10-fold cross validation process, each time using different hypterparameters of the random forest. We then compare all of the random forest models, get the hyperparameters of the model with the [`best_score`](https://scikit-learn.org/stable/modules/generated/sklearn.model_selection.GridSearchCV.html), train this particular model on the entire `X_train` and then ultimately evaluate the model on `X_test` on Kaggle."
   ]
  },
  {
   "cell_type": "code",
   "execution_count": 16,
   "metadata": {},
   "outputs": [
    {
     "data": {
      "text/plain": [
       "GridSearchCV(cv=StratifiedKFold(n_splits=10, random_state=999, shuffle=True),\n",
       "       error_score='raise',\n",
       "       estimator=RandomForestClassifier(bootstrap=True, class_weight=None, criterion='gini',\n",
       "            max_depth=None, max_features='auto', max_leaf_nodes=None,\n",
       "            min_impurity_decrease=0.0, min_impurity_split=None,\n",
       "            min_samples_leaf=1, min_samples_split=2,\n",
       "            min_weight_fraction_leaf=0.0, n_estimators=10, n_jobs=1,\n",
       "            oob_score=False, random_state=None, verbose=0,\n",
       "            warm_start=False),\n",
       "       fit_params=None, iid=True, n_jobs=-1,\n",
       "       param_grid={'max_depth': [9, 10, 11, 12, 13], 'min_samples_split': [2, 3, 4, 5, 6, 7, 8, 9, 10], 'min_samples_leaf': [2, 3, 4, 5, 6, 7, 8, 9], 'bootstrap': [False], 'n_estimators': [10, 20, 30, 40, 50, 60, 70, 80, 90, 100, 110, 120, 130, 140, 150, 160, 170, 180, 190, 200], 'criterion': ['gini']},\n",
       "       pre_dispatch='2*n_jobs', refit=True, return_train_score='warn',\n",
       "       scoring='accuracy', verbose=0)"
      ]
     },
     "execution_count": 16,
     "metadata": {},
     "output_type": "execute_result"
    }
   ],
   "source": [
    "# Create param grid object \n",
    "randforest_params = { \"max_depth\": [n for n in range(9, 14)],     \n",
    "                      \"min_samples_split\": [n for n in range(2, 11)], \n",
    "                      \"min_samples_leaf\": [n for n in range(2, 10)], \n",
    "                      \"bootstrap\": [False],\n",
    "                      \"n_estimators\": [n for n in range(10, 210, 10)],\n",
    "                      \"criterion\": [\"gini\"]\n",
    "                    }\n",
    "\n",
    "# Instantiate Random Forest model\n",
    "randforest = RandomForestClassifier()\n",
    "\n",
    "# Grid search to search for optimal parameters\n",
    "randforest_gs = GridSearchCV(estimator = randforest, param_grid = randforest_params, cv = kfold, scoring = \"accuracy\", n_jobs = -1)\n",
    "\n",
    "randforest_gs.fit(X_train, Y_train)"
   ]
  },
  {
   "cell_type": "markdown",
   "metadata": {},
   "source": [
    "The best hypterparameters from `GridSearchCV` are as follows:"
   ]
  },
  {
   "cell_type": "code",
   "execution_count": 17,
   "metadata": {},
   "outputs": [
    {
     "name": "stdout",
     "output_type": "stream",
     "text": [
      "Best score: 0.8417508417508418\n"
     ]
    }
   ],
   "source": [
    "print(\"Best score: {}\".format(randforest_gs.best_score_))\n",
    "# print(\"Optimal params: {}\".format(randforest_gs.best_estimator_))"
   ]
  },
  {
   "cell_type": "markdown",
   "metadata": {},
   "source": [
    "It is interesting to compare this optimised random forest with the base random forest model to determine if the `GridSearchCV` yielded a better model.\n",
    "\n",
    "We see an improvement of approximately 1.34% in mean accuracy when comparing the tuned model to the base model."
   ]
  },
  {
   "cell_type": "code",
   "execution_count": 18,
   "metadata": {},
   "outputs": [
    {
     "name": "stdout",
     "output_type": "stream",
     "text": [
      "Mean accuracy of base model across 10-folds: 81.27%\n",
      "Difference in mean accuracies betweem base model and tuned model: 2.91%\n"
     ]
    }
   ],
   "source": [
    "# Instantiate base random forest model\n",
    "randforest_base = RandomForestClassifier(n_estimators = 10, random_state = RSEED)\n",
    "\n",
    "randforest_base_accuracies = []\n",
    "\n",
    "for train, validate in kfold.split(X = X_train, y = Y_train):\n",
    "    randforest_base.fit(X_train.iloc[train], Y_train.iloc[train])\n",
    "    predictions = randforest_base.predict(X_train.iloc[validate])\n",
    "    wrong_predictions = sum(abs(predictions - Y_train.iloc[validate]))\n",
    "    accuracy = (len(validate) - wrong_predictions) / len(validate)\n",
    "    randforest_base_accuracies.append(accuracy)\n",
    "\n",
    "randforest_base_mean_accuracy = np.mean(randforest_base_accuracies)\n",
    "\n",
    "print(\"Mean accuracy of base model across 10-folds: {:.2f}%\".format(100 * randforest_base_mean_accuracy))\n",
    "print(\"Difference in mean accuracies betweem base model and tuned model: {:.2f}%\".format(100 * (randforest_gs.best_score_ - randforest_base_mean_accuracy)))"
   ]
  },
  {
   "cell_type": "markdown",
   "metadata": {},
   "source": [
    "#### 3.3 Prediction on `X_test` and submission\n",
    "\n",
    "Now, all we need to do is to export the dataframe of predictions to `.csv` and submit to Kaggle! As of the time of posting, this method achieved an accuracy of 0.79904."
   ]
  },
  {
   "cell_type": "code",
   "execution_count": 19,
   "metadata": {},
   "outputs": [],
   "source": [
    "randforest_best = randforest_gs.best_estimator_\n",
    "\n",
    "randforest_pred = randforest_best.predict(X_test)\n",
    "\n",
    "kaggle_df = pd.DataFrame({\"PassengerId\": passengerId, \"Survived\": randforest_pred})\n",
    "\n",
    "# Save to .csv\n",
    "kaggle_df.to_csv(\"Titanic_pred.csv\", index = False)"
   ]
  }
 ],
 "metadata": {
  "kernelspec": {
   "display_name": "Python 3",
   "language": "python",
   "name": "python3"
  },
  "language_info": {
   "codemirror_mode": {
    "name": "ipython",
    "version": 3
   },
   "file_extension": ".py",
   "mimetype": "text/x-python",
   "name": "python",
   "nbconvert_exporter": "python",
   "pygments_lexer": "ipython3",
   "version": "3.6.3"
  }
 },
 "nbformat": 4,
 "nbformat_minor": 2
}
